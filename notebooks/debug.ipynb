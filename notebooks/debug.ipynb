{
 "cells": [
  {
   "cell_type": "code",
   "execution_count": 5,
   "metadata": {},
   "outputs": [],
   "source": [
    "import numpy as np\n",
    "from operator import itemgetter"
   ]
  },
  {
   "cell_type": "code",
   "execution_count": 34,
   "metadata": {},
   "outputs": [],
   "source": [
    "message_citations = [{'content': \"Policyholders who wish to allow or restrict the use of their personal data for direct marketing activities can do so with this form. Consent is given for Manulife to curate specific financial products and services that align with customer interests. A policyholder's choice regarding marketing preferences is respected and can be changed at any time. This document ensures compliance with personal data protection laws and customer-centric marketing ethics.\", 'id': None, 'title': 'Customer Consent to Use / Provision of Personal Data in Direct Marketing', 'filepath': 'cs03-customer-consent-to-use-provision-of-personal-data-in-direct-marketing.pdf', 'url': 'https://www.manulife.com.hk/content/dam/insurance/hk/en/documents/services/forms/cs03-customer-consent-to-use-provision-of-personal-data-in-direct-marketing.pdf'\n",
    ", 'metadata': None, 'chunk_id': '0'}, {'content': \"Policyholders who wish to apply for payouts or distributions related to their investment-linked assurance schemes will require this form. It specifies how and when distributions are to be invested or received. The form is instrumental in helping customers manage their investment returns and financial planning. Accurate completion ensures that requests for payouts are processed according to the policyholder's needs.\", 'id': None, 'title': 'Manulife Investment Plus 2 (Hong Kong) Application For Payout Distribution Investment Choice', 'filepath': 'applicant-for-payout-distribution-investment-choice.pdf', 'url': 'https://www.manulife.com.hk/content/dam/insurance/hk/en/documents/services/forms/applicant-for-payout-distribution-investment-choice.pdf'\n",
    ", 'metadata': None, 'chunk_id': '0'}, {'content': 'This vital form enables joint policy owners to grant authorization for accessing online services related to their Manulife policy. It is mandatory for all joint owners to provide their consent via signatures to effect any changes. This multilateral agreement is critical for processing requests and ensuring joint decisions. Proper completion of this form is essential for maintaining the shared rights and privileges of each policy owner.', 'id': None, 'title': 'Joint Owner Authorization Form', 'filepath': 'joint-owner-authorization-form.pdf', 'url': 'https://www.manulife.com.hk/content/dam/insurance/hk/en/documents/services/forms/joint-owner-authorization-form.pdf'\n",
    ", 'metadata': None, 'chunk_id': '0'}, {'content': \"A multi-purpose form designed for policyholders to initiate changes related to their investment-linked policies such as top-up premiums, fund switching, redemptions, and full surrender. Making adjustments to one's investment strategy is critical for adapting to the changing market conditions or personal circumstances. This form facilitates the smooth execution of these transactional services. Policyholders are encouraged to seek financial advice when executing substantial changes.\", 'id': None, 'title': 'Manulife Investment Plus 2 (Hong Kong) Investment Choice Services Form', 'filepath': 'mip2-investment-choice-services-form.pdf', 'url': 'https://www.manulife.com.hk/content/dam/insurance/hk/en/documents/services/forms/mip2-investment-choice-services-form.pdf'\n",
    ", 'metadata': None, 'chunk_id': '0'}, {'content': 'Serves as a comprehensive guide to investment options available under Manulife Investment Plus and related products. It provides critical information on the various fund choices, performance metrics, and risk assessments. Policyholders use this table for making informed decisions about allocating their premiums to different investment funds. Regular consultation of this table is recommended for strategic portfolio adjustments.', 'id': None, 'title': 'Manulife Investment Plus 2 (Hong Kong) Investment Choice Table', 'filepath': 'investment-choice-table-manulife-investment-solutions.pdf', 'url': 'https://www.manulife.com.hk/content/dam/insurance/hk/en/documents/services/forms/investment-choice-table-manulife-investment-solutions.pdf'\n",
    ", 'metadata': None, 'chunk_id': '0'}]"
   ]
  },
  {
   "cell_type": "code",
   "execution_count": 35,
   "metadata": {},
   "outputs": [],
   "source": [
    "unique_idx = [0, 4]"
   ]
  },
  {
   "cell_type": "code",
   "execution_count": 36,
   "metadata": {},
   "outputs": [
    {
     "data": {
      "text/plain": [
       "[{'content': \"Policyholders who wish to allow or restrict the use of their personal data for direct marketing activities can do so with this form. Consent is given for Manulife to curate specific financial products and services that align with customer interests. A policyholder's choice regarding marketing preferences is respected and can be changed at any time. This document ensures compliance with personal data protection laws and customer-centric marketing ethics.\",\n",
       "  'id': None,\n",
       "  'title': 'Customer Consent to Use / Provision of Personal Data in Direct Marketing',\n",
       "  'filepath': 'cs03-customer-consent-to-use-provision-of-personal-data-in-direct-marketing.pdf',\n",
       "  'url': 'https://www.manulife.com.hk/content/dam/insurance/hk/en/documents/services/forms/cs03-customer-consent-to-use-provision-of-personal-data-in-direct-marketing.pdf',\n",
       "  'metadata': None,\n",
       "  'chunk_id': '0'},\n",
       " {'content': 'Serves as a comprehensive guide to investment options available under Manulife Investment Plus and related products. It provides critical information on the various fund choices, performance metrics, and risk assessments. Policyholders use this table for making informed decisions about allocating their premiums to different investment funds. Regular consultation of this table is recommended for strategic portfolio adjustments.',\n",
       "  'id': None,\n",
       "  'title': 'Manulife Investment Plus 2 (Hong Kong) Investment Choice Table',\n",
       "  'filepath': 'investment-choice-table-manulife-investment-solutions.pdf',\n",
       "  'url': 'https://www.manulife.com.hk/content/dam/insurance/hk/en/documents/services/forms/investment-choice-table-manulife-investment-solutions.pdf',\n",
       "  'metadata': None,\n",
       "  'chunk_id': '0'}]"
      ]
     },
     "execution_count": 36,
     "metadata": {},
     "output_type": "execute_result"
    }
   ],
   "source": [
    "[message_citations[idx] for idx in unique_idx]"
   ]
  },
  {
   "cell_type": "code",
   "execution_count": 30,
   "metadata": {},
   "outputs": [],
   "source": [
    "input_text = \"This is a sentence from this document [doc5] and a next point also from [doc5]. The other is from that one [doc1] with this example also from [doc1] and lastly we have from here [doc3]\""
   ]
  },
  {
   "cell_type": "code",
   "execution_count": 31,
   "metadata": {},
   "outputs": [],
   "source": [
    "output_text = \"This is a sentence from this document [doc3] and a next point also from [doc3]. The other is from that one [doc1] with this example also from [doc1] and lastly we have from here [doc2]\""
   ]
  },
  {
   "cell_type": "code",
   "execution_count": 41,
   "metadata": {},
   "outputs": [
    {
     "name": "stdout",
     "output_type": "stream",
     "text": [
      "This is a sentence from this document [doc3] and a next point also from [doc3]. The other is from that one [doc1] with this example also from [doc1] and lastly we have from here [doc2]\n"
     ]
    }
   ],
   "source": [
    "import re\n",
    "\n",
    "input_text = \"This is a sentence from this document [doc5] and a next point also from [doc5]. The other is from that one [doc1] with this example also from [doc1] and lastly we have from here [doc3]\"\n",
    "\n",
    "# Extract the doc numbers\n",
    "doc_numbers = re.findall(r'\\[doc(\\d+)\\]', input_text)\n",
    "\n",
    "# Get unique numbers and sort them in descending order\n",
    "unique_numbers = sorted(set(doc_numbers), reverse=False)\n",
    "\n",
    "# Create a mapping of old number to new number\n",
    "substitutions = {number: str(i+1) for i, number in enumerate(unique_numbers)}\n",
    "\n",
    "# Substitute old numbers with new numbers\n",
    "output_text = re.sub(r'\\[doc(\\d+)\\]', lambda match: '[doc' + substitutions[match.group(1)] + ']', input_text)\n",
    "\n",
    "print(output_text)"
   ]
  },
  {
   "cell_type": "code",
   "execution_count": 44,
   "metadata": {},
   "outputs": [],
   "source": [
    "\n",
    "input_text = \"i am jason\"\n",
    "\n",
    "pattern = r'\\[doc(\\d+)\\]'\n",
    "\n",
    "# Find all matches of the pattern in the string\n",
    "matches = re.findall(pattern, input_text)"
   ]
  },
  {
   "cell_type": "code",
   "execution_count": 46,
   "metadata": {},
   "outputs": [],
   "source": [
    "unique_idx = list(set([int(match) - 1 for match in matches]))"
   ]
  },
  {
   "cell_type": "code",
   "execution_count": 47,
   "metadata": {},
   "outputs": [
    {
     "data": {
      "text/plain": [
       "[]"
      ]
     },
     "execution_count": 47,
     "metadata": {},
     "output_type": "execute_result"
    }
   ],
   "source": [
    "unique_idx"
   ]
  },
  {
   "cell_type": "code",
   "execution_count": null,
   "metadata": {},
   "outputs": [],
   "source": []
  }
 ],
 "metadata": {
  "kernelspec": {
   "display_name": "jason_311",
   "language": "python",
   "name": "python3"
  },
  "language_info": {
   "codemirror_mode": {
    "name": "ipython",
    "version": 3
   },
   "file_extension": ".py",
   "mimetype": "text/x-python",
   "name": "python",
   "nbconvert_exporter": "python",
   "pygments_lexer": "ipython3",
   "version": "3.11.6"
  }
 },
 "nbformat": 4,
 "nbformat_minor": 2
}
