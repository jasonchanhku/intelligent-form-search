{
 "cells": [
  {
   "cell_type": "code",
   "execution_count": 4,
   "metadata": {},
   "outputs": [],
   "source": [
    "import openai, os, requests\n",
    "import json\n",
    "from dotenv import load_dotenv\n",
    "load_dotenv()\n",
    "\n",
    "api_type = os.getenv(\"OPENAI_API_TYPE\")\n",
    "# Azure OpenAI on your own data is only supported by the 2023-08-01-preview API version\n",
    "api_version = os.getenv(\"OPENAI_API_VERSION\")\n",
    "\n",
    "# Azure OpenAI setup\n",
    "endpoint = os.getenv(\"AZURE_OPENAI_ENDPOINT\") # Add your endpoint here\n",
    "api_key = os.getenv(\"AZURE_OPENAI_API_KEY\") # Add your OpenAI API key here\n",
    "deployment_id = os.getenv(\"AZURE_OPENAI_MODEL_NAME\") # Add your deployment ID here\n",
    "\n",
    "# Azure AI Search setup\n",
    "search_endpoint = os.getenv(\"SEARCH_ENDPOINT\"); # Add your Azure AI Search endpoint here\n",
    "search_key = os.getenv(\"SEARCH_KEY\"); # Add your Azure AI Search admin key here\n",
    "search_index_name = os.getenv(\"SEARCH_NAME\"); # Add your Azure AI Search index name here\n",
    "\n",
    "system_message = os.getenv(\"AZURE_OPENAI_SYSTEM_MESSAGE\")\n",
    "\n"
   ]
  },
  {
   "cell_type": "code",
   "execution_count": 5,
   "metadata": {},
   "outputs": [
    {
     "data": {
      "text/plain": [
       "'azure'"
      ]
     },
     "execution_count": 5,
     "metadata": {},
     "output_type": "execute_result"
    }
   ],
   "source": [
    "os.environ[\"OPENAI_API_TYPE\"]"
   ]
  },
  {
   "cell_type": "code",
   "execution_count": 27,
   "metadata": {},
   "outputs": [
    {
     "name": "stdout",
     "output_type": "stream",
     "text": [
      "{\n",
      "  \"id\": \"cc4c97a8-5532-42b4-a4ba-3ab263ca6612\",\n",
      "  \"choices\": [\n",
      "    {\n",
      "      \"finish_reason\": \"stop\",\n",
      "      \"index\": 0,\n",
      "      \"logprobs\": null,\n",
      "      \"message\": {\n",
      "        \"content\": \"The Temporary Insurance Agreement (TIA) is designed to provide temporary life insurance coverage to the proposed insured. It covers the period during which the insurance application is being underwritten by Manulife, starting at the time of completion of the application and subject to the conditions stated in the TIA[doc1].\\n\\nThe death benefit under the TIA will be paid by Manulife if the proposed insured dies due to causes not related to any material misrepresentation in the application form. However, the death benefit is not payable if the cause of death is suicide[doc1].\\n\\nThe TIA terminates on the earliest of the following: the date the policy applied for becomes effective, the date Manulife mails a notice to the applicant informing the termination of TIA, or 90 days from the sign date of the application[doc2].\\n\\nAn insurance advisor can issue the TIA after they have fully explained the terms and conditions to the proposed insured, and the proposed insured has answered \\\"NO\\\" to ALL health questions on the application form Part V. Temporary Insurance under this agreement shall take effect upon completion of the Application AND payment has been made[doc2].\",\n",
      "        \"role\": \"assistant\",\n",
      "        \"function_call\": null,\n",
      "        \"tool_calls\": null,\n",
      "        \"end_turn\": true,\n",
      "        \"context\": {\n",
      "          \"messages\": [\n",
      "            {\n",
      "              \"role\": \"tool\",\n",
      "              \"content\": \"{\\\"citations\\\": [{\\\"content\\\": \\\"8 Special Notes on Temporary Insurance Agreement (TIA)  \\\\n \\\\n\\\\nTIA \\\\n\\\\nBackground & \\\\nCoverage \\\\n\\\\n- TIA is to provide temporary life insurance coverage to the proposed insured. \\\\n- It covers the period during which the insurance application is being underwritten \\\\n\\\\nby Manulife. The period starts at the time of completion of the application and \\\\nsubject to the conditions stated in the TIA. \\\\n\\\\n- The amount of insurance under this agreement and all other temporary insurance \\\\nagreements with the Company, please refer to “Terms” under TIA in details. \\\\n\\\\n \\\\n\\\\nPay the death \\\\nbenefit \\\\n\\\\n- Manulife will pay the death benefit: \\\\n➢ If the proposed insured die due to causes not related to any material \\\\n\\\\nmisrepresentation in the application form. \\\\n➢ Death benefit is not payable if the cause of death is “suicide”\\\", \\\"id\\\": null, \\\"title\\\": \\\"For Internal Reference Only Page 40\\\", \\\"filepath\\\": \\\"page_040.pdf\\\", \\\"url\\\": \\\"https://eaompocblob.blob.core.windows.net/split-pdfs/page_040.pdf\\\", \\\"metadata\\\": {\\\"chunking\\\": \\\"orignal document size=208. Scores=0.6207682490348816Org Highlight count=9.\\\"}, \\\"chunk_id\\\": \\\"0\\\"}, {\\\"content\\\": \\\"Termination - TIA terminates on the earliest of: \\\\n➢ The date the policy applied for becomes effective; \\\\n➢ The date Manulife mails a notice to the applicant informing the termination of \\\\n\\\\nTIA; and \\\\n➢ 90 days from the sign date of the application  \\\\n\\\\n \\\\n\\\\nIssue the TIA - Insurance advisor can issue the TIA: \\\\n➢ After insurance advisor has fully explained the terms and conditions to the \\\\n\\\\nproposed insured; and \\\\n➢ The proposed insured has answered “NO” to ALL health questions on the \\\\n\\\\napplication form Part V \\\\n- Temporary Insurance under this agreement shall take effect upon completion of \\\\n\\\\nthe Application AND payment has been made. Please refer to “Conditions” under \\\\nTIA in payment details\\\", \\\"id\\\": null, \\\"title\\\": \\\"For Internal Reference Only Page 40\\\", \\\"filepath\\\": \\\"page_040.pdf\\\", \\\"url\\\": \\\"https://eaompocblob.blob.core.windows.net/split-pdfs/page_040.pdf\\\", \\\"metadata\\\": {\\\"chunking\\\": \\\"orignal document size=182. Scores=0.4295247197151184Org Highlight count=5.\\\"}, \\\"chunk_id\\\": \\\"1\\\"}], \\\"intent\\\": \\\"[\\\\\\\"What is TIA?\\\\\\\", \\\\\\\"Information about TIA\\\\\\\"]\\\"}\",\n",
      "              \"end_turn\": false\n",
      "            }\n",
      "          ]\n",
      "        }\n",
      "      }\n",
      "    }\n",
      "  ],\n",
      "  \"created\": 1709003665,\n",
      "  \"model\": \"gpt-4\",\n",
      "  \"object\": \"extensions.chat.completion\",\n",
      "  \"system_fingerprint\": null,\n",
      "  \"usage\": {\n",
      "    \"completion_tokens\": 244,\n",
      "    \"prompt_tokens\": 4105,\n",
      "    \"total_tokens\": 4349\n",
      "  }\n",
      "}\n"
     ]
    }
   ],
   "source": [
    "client = openai.AzureOpenAI(\n",
    "    base_url=f\"{endpoint}/openai/deployments/{deployment_id}/extensions\",\n",
    "    api_key=api_key,\n",
    "    api_version=api_version,\n",
    ")\n",
    "\n",
    "completion = client.chat.completions.create(\n",
    "    model=deployment_id,\n",
    "    messages=[\n",
    "        {\n",
    "            \"role\": \"user\",\n",
    "            \"content\": \"Who are you?\",\n",
    "        },\n",
    "        {\n",
    "        \"role\": \"assistant\",\n",
    "        \"content\": \"I'm Jason, an AI assistant employed by Manulife. I'm here to help you find information from the e-Agent Operating Manual (eAOM) source documents.\",\n",
    "        },\n",
    "        {\n",
    "            \"role\": \"user\",\n",
    "            \"content\": \"What can you tell me about TIA?\",\n",
    "        }\n",
    "    ],\n",
    "    stream=False,\n",
    "    max_tokens=800,\n",
    "    extra_body={\n",
    "        \"dataSources\": [\n",
    "            {\n",
    "                \"type\": \"AzureCognitiveSearch\",\n",
    "                \"parameters\": {\n",
    "                    \"endpoint\": search_endpoint,\n",
    "                    \"key\": search_key,\n",
    "                    \"indexName\": search_index_name,\n",
    "                    \"inScope\": True,\n",
    "                    \"topNDocuments\": 2,\n",
    "                    \"queryType\": \"semantic\",\n",
    "                    \"semanticConfiguration\": \"default\",\n",
    "                    \"roleInformation\": system_message,\n",
    "                    \"strictness\": 3\n",
    "                }\n",
    "            }\n",
    "        ]\n",
    "    }\n",
    ")\n",
    "\n",
    "print(completion.model_dump_json(indent=2))"
   ]
  },
  {
   "cell_type": "code",
   "execution_count": 25,
   "metadata": {},
   "outputs": [
    {
     "name": "stdout",
     "output_type": "stream",
     "text": [
      "{\n",
      "  \"id\": \"6689d815-9973-4a17-a11e-9b044380fff2\",\n",
      "  \"choices\": [\n",
      "    {\n",
      "      \"finish_reason\": \"stop\",\n",
      "      \"index\": 0,\n",
      "      \"logprobs\": null,\n",
      "      \"message\": {\n",
      "        \"content\": \"I'm Jason, an AI assistant employed by Manulife. I'm here to help you find information from the e-Agent Operating Manual (eAOM) source documents.\",\n",
      "        \"role\": \"assistant\",\n",
      "        \"function_call\": null,\n",
      "        \"tool_calls\": null,\n",
      "        \"end_turn\": true,\n",
      "        \"context\": {\n",
      "          \"messages\": [\n",
      "            {\n",
      "              \"role\": \"tool\",\n",
      "              \"content\": \"{\\\"citations\\\": [], \\\"intent\\\": \\\"[]\\\"}\",\n",
      "              \"end_turn\": false\n",
      "            }\n",
      "          ]\n",
      "        }\n",
      "      }\n",
      "    }\n",
      "  ],\n",
      "  \"created\": 1709002330,\n",
      "  \"model\": \"gpt-4\",\n",
      "  \"object\": \"extensions.chat.completion\",\n",
      "  \"system_fingerprint\": null,\n",
      "  \"usage\": {\n",
      "    \"completion_tokens\": 36,\n",
      "    \"prompt_tokens\": 3548,\n",
      "    \"total_tokens\": 3584\n",
      "  }\n",
      "}\n"
     ]
    }
   ],
   "source": [
    "print(completion.model_dump_json(indent=2))"
   ]
  },
  {
   "cell_type": "code",
   "execution_count": 41,
   "metadata": {},
   "outputs": [],
   "source": [
    "# python -m streamlit run src/frontend/EN_English.py --server.address 0.0.0.0 --server.port 8080"
   ]
  },
  {
   "cell_type": "code",
   "execution_count": 89,
   "metadata": {},
   "outputs": [
    {
     "name": "stdout",
     "output_type": "stream",
     "text": [
      "Choice(delta=ChoiceDelta(content=None, function_call=None, role='assistant', tool_calls=None), finish_reason=None, index=0, logprobs=None, end_turn=False)\n"
     ]
    }
   ],
   "source": [
    "full_response = \"\"\n",
    "for response in completion:\n",
    "    print(response.choices[0])\n",
    "    content = response.choices[0].delta.content\n",
    "    full_response += content if content is not None else \"\"\n",
    "    break\n",
    "#print(full_response)"
   ]
  },
  {
   "cell_type": "code",
   "execution_count": 88,
   "metadata": {},
   "outputs": [
    {
     "name": "stderr",
     "output_type": "stream",
     "text": [
      "/tmp/ipykernel_2366/7845261.py:1: PydanticDeprecatedSince20: The copy method is deprecated; use `model_copy` instead. Deprecated in Pydantic V2.0 to be removed in V3.0. See Pydantic V2 Migration Guide at https://errors.pydantic.dev/2.5/migration/\n",
      "  first_r=response.copy()\n"
     ]
    }
   ],
   "source": [
    "first_r=response.copy()"
   ]
  },
  {
   "cell_type": "code",
   "execution_count": 90,
   "metadata": {},
   "outputs": [
    {
     "name": "stderr",
     "output_type": "stream",
     "text": [
      "/tmp/ipykernel_2366/2435346865.py:1: PydanticDeprecatedSince20: The copy method is deprecated; use `model_copy` instead. Deprecated in Pydantic V2.0 to be removed in V3.0. See Pydantic V2 Migration Guide at https://errors.pydantic.dev/2.5/migration/\n",
      "  second_r = response.copy()\n"
     ]
    }
   ],
   "source": [
    "second_r = response.copy()"
   ]
  },
  {
   "cell_type": "code",
   "execution_count": 149,
   "metadata": {},
   "outputs": [
    {
     "data": {
      "text/plain": [
       "'gpt-4'"
      ]
     },
     "execution_count": 149,
     "metadata": {},
     "output_type": "execute_result"
    }
   ],
   "source": [
    "second_r.model_dump()['model']"
   ]
  },
  {
   "cell_type": "code",
   "execution_count": 111,
   "metadata": {},
   "outputs": [
    {
     "data": {
      "text/plain": [
       "[{'content': '8 Special Notes on Temporary Insurance Agreement (TIA)  \\n \\n\\nTIA \\n\\nBackground & \\nCoverage \\n\\n- TIA is to provide temporary life insurance coverage to the proposed insured. \\n- It covers the period during which the insurance application is being underwritten \\n\\nby Manulife. The period starts at the time of completion of the application and \\nsubject to the conditions stated in the TIA. \\n\\n- The amount of insurance under this agreement and all other temporary insurance \\nagreements with the Company, please refer to “Terms” under TIA in details. \\n\\n \\n\\nPay the death \\nbenefit \\n\\n- Manulife will pay the death benefit: \\n➢ If the proposed insured die due to causes not related to any material \\n\\nmisrepresentation in the application form. \\n➢ Death benefit is not payable if the cause of death is “suicide”',\n",
       "  'id': None,\n",
       "  'title': 'For Internal Reference Only Page 40',\n",
       "  'filepath': 'page_040.pdf',\n",
       "  'url': 'https://eaompocblob.blob.core.windows.net/split-pdfs/page_040.pdf',\n",
       "  'metadata': {'chunking': 'orignal document size=208. Scores=0.7093290090560913Org Highlight count=17.'},\n",
       "  'chunk_id': '0'},\n",
       " {'content': '4 for details \\n \\n\\n8 Direct Debit Authorization Form (DDA) - Selected autopay as the payment method / monthly \\n\\nas the payment mode \\n\\n- Accept agent memo to confirm DDA form will be \\n\\nsubmitted later \\n \\n\\n9 Temporary Insurance Agreement (TIA) Refer to Section 3.8 for details \\n \\n\\n10 Financial Questionnaire Refer to Section 5 to 7 for details \\n \\n\\n11 Important Facts Statement – Policy \\n\\nReplacement (IFS-PR) \\n\\nIFS-PR is required if customer has answered “Yes” or \\n“Not Yet Decided” for the “Policy Replacement” section \\nof the application form. Refer to Section 3.9 for details \\n \\n\\n12 FATCA requirements if US indicia is \\n\\npresent \\n\\nRefer to Section 11.2 for details',\n",
       "  'id': None,\n",
       "  'title': 'For Internal Reference Only Page 9',\n",
       "  'filepath': 'page_009.pdf',\n",
       "  'url': 'https://eaompocblob.blob.core.windows.net/split-pdfs/page_009.pdf',\n",
       "  'metadata': {'chunking': 'orignal document size=197. Scores=0.6132046580314636Org Highlight count=5.'},\n",
       "  'chunk_id': '0'}]"
      ]
     },
     "execution_count": 111,
     "metadata": {},
     "output_type": "execute_result"
    }
   ],
   "source": [
    "json.loads(first_r.model_dump()['choices'][0]['delta']['context']['messages'][0]['content'])['citations']"
   ]
  },
  {
   "cell_type": "code",
   "execution_count": 97,
   "metadata": {},
   "outputs": [
    {
     "data": {
      "text/plain": [
       "dict_keys(['content', 'function_call', 'role', 'tool_calls'])"
      ]
     },
     "execution_count": 97,
     "metadata": {},
     "output_type": "execute_result"
    }
   ],
   "source": [
    "second_r.model_dump()['choices'][0]['delta'].keys()"
   ]
  },
  {
   "cell_type": "code",
   "execution_count": 54,
   "metadata": {},
   "outputs": [
    {
     "data": {
      "text/plain": [
       "dict_keys(['id', 'choices', 'created', 'model', 'object', 'system_fingerprint'])"
      ]
     },
     "execution_count": 54,
     "metadata": {},
     "output_type": "execute_result"
    }
   ],
   "source": [
    "response.model_dump().keys()"
   ]
  },
  {
   "cell_type": "code",
   "execution_count": 43,
   "metadata": {},
   "outputs": [],
   "source": [
    "context_retrieved = json.loads(response.choices[0].delta.context['messages'][0]['content'])"
   ]
  },
  {
   "cell_type": "code",
   "execution_count": 47,
   "metadata": {},
   "outputs": [
    {
     "name": "stdout",
     "output_type": "stream",
     "text": [
      "8 Special Notes on Temporary Insurance Agreement (TIA)  \n",
      " \n",
      "\n",
      "TIA \n",
      "\n",
      "Background & \n",
      "Coverage \n",
      "\n",
      "- TIA is to provide temporary life insurance coverage to the proposed insured. \n",
      "- It covers the period during which the insurance application is being underwritten \n",
      "\n",
      "by Manulife. The period starts at the time of completion of the application and \n",
      "subject to the conditions stated in the TIA. \n",
      "\n",
      "- The amount of insurance under this agreement and all other temporary insurance \n",
      "agreements with the Company, please refer to “Terms” under TIA in details. \n",
      "\n",
      " \n",
      "\n",
      "Pay the death \n",
      "benefit \n",
      "\n",
      "- Manulife will pay the death benefit: \n",
      "➢ If the proposed insured die due to causes not related to any material \n",
      "\n",
      "misrepresentation in the application form. \n",
      "➢ Death benefit is not payable if the cause of death is “suicide”\n"
     ]
    }
   ],
   "source": [
    "print(context_retrieved['citations'][0]['content'])"
   ]
  }
 ],
 "metadata": {
  "kernelspec": {
   "display_name": "streamlit_39",
   "language": "python",
   "name": "python3"
  },
  "language_info": {
   "codemirror_mode": {
    "name": "ipython",
    "version": 3
   },
   "file_extension": ".py",
   "mimetype": "text/x-python",
   "name": "python",
   "nbconvert_exporter": "python",
   "pygments_lexer": "ipython3",
   "version": "3.9.0"
  }
 },
 "nbformat": 4,
 "nbformat_minor": 2
}
